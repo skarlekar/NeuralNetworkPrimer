{
  "nbformat": 4,
  "nbformat_minor": 0,
  "metadata": {
    "colab": {
      "name": "HousePricePrediction.ipynb",
      "provenance": [],
      "toc_visible": true,
      "mount_file_id": "13BTit5uV5qnRbOZG8ryyAFBJ-7-yDO7I",
      "authorship_tag": "ABX9TyOuhUaDUPb+sHrcl9v4A6fO",
      "include_colab_link": true
    },
    "kernelspec": {
      "name": "python3",
      "display_name": "Python 3"
    }
  },
  "cells": [
    {
      "cell_type": "markdown",
      "metadata": {
        "id": "view-in-github",
        "colab_type": "text"
      },
      "source": [
        "<a href=\"https://colab.research.google.com/github/skarlekar/NeuralNetworkPrimer/blob/master/Notebooks/HousePricePrediction.ipynb\" target=\"_parent\"><img src=\"https://colab.research.google.com/assets/colab-badge.svg\" alt=\"Open In Colab\"/></a>"
      ]
    },
    {
      "cell_type": "markdown",
      "metadata": {
        "id": "NJMBoKlmxQcL",
        "colab_type": "text"
      },
      "source": [
        "In this exercise we will try to build a neural network that predicts the price of a house according to a simple formula.\n",
        "\n",
        "So, imagine if house pricing was as easy as a house costs 50k + 50k per bedroom, so that a 1 bedroom house costs 100k, a 2 bedroom house costs 150k etc.\n",
        "\n",
        "How would you create a neural network that learns this relationship so that it would predict a 7 bedroom house as costing close to 400k etc.\n",
        "\n",
        "Hint: Your network might work better if you scale the house price down. You don't have to give the answer 400...it might be better to create something that predicts the number 4, and then your answer is in the 'hundreds of thousands' etc."
      ]
    },
    {
      "cell_type": "code",
      "metadata": {
        "id": "Ufx98-lHwdMH",
        "colab_type": "code",
        "colab": {}
      },
      "source": [
        "import tensorflow as tf\n",
        "import numpy as np\n",
        "from tensorflow import keras\n",
        "from decimal import *"
      ],
      "execution_count": 1,
      "outputs": []
    },
    {
      "cell_type": "markdown",
      "metadata": {
        "id": "KuVpZMlEL-3L",
        "colab_type": "text"
      },
      "source": [
        "Generate a training data set of seven records"
      ]
    },
    {
      "cell_type": "code",
      "metadata": {
        "id": "P43SaeXwz8a_",
        "colab_type": "code",
        "colab": {}
      },
      "source": [
        "xs = np.array([0.0, 1.0, 2.0, 3.0, 4.0, 5.0, 6.0], dtype=float)\n",
        "ys = np.array([0.5, 1.0, 1.5, 2.0, 2.5, 3.0, 3.5], dtype=float)"
      ],
      "execution_count": 2,
      "outputs": []
    },
    {
      "cell_type": "markdown",
      "metadata": {
        "id": "_Eq3iYT2MYB9",
        "colab_type": "text"
      },
      "source": [
        "Define a Keras model with one Dense layer. We will use a Sigmoid optimizer with MSE loss function"
      ]
    },
    {
      "cell_type": "code",
      "metadata": {
        "id": "ynmigpUR0CYZ",
        "colab_type": "code",
        "colab": {}
      },
      "source": [
        "model = tf.keras.Sequential([keras.layers.Dense(units=1, input_shape=[1])])\n",
        "model.compile(optimizer='sgd', loss='mean_squared_error')"
      ],
      "execution_count": 4,
      "outputs": []
    },
    {
      "cell_type": "markdown",
      "metadata": {
        "id": "3Y89ZuyyMp0p",
        "colab_type": "text"
      },
      "source": [
        "Train the model for 500 epochs"
      ]
    },
    {
      "cell_type": "code",
      "metadata": {
        "id": "Wz98ghTA0HUH",
        "colab_type": "code",
        "colab": {}
      },
      "source": [
        "model.fit(xs, ys, epochs=500)"
      ],
      "execution_count": null,
      "outputs": []
    },
    {
      "cell_type": "markdown",
      "metadata": {
        "id": "6fiuiRV9Mu_N",
        "colab_type": "text"
      },
      "source": [
        "With the training done, let us use the model to predict the price of a 7 bedroom house."
      ]
    },
    {
      "cell_type": "code",
      "metadata": {
        "id": "um1qKxRv0QZl",
        "colab_type": "code",
        "colab": {}
      },
      "source": [
        "bedrooms = 7\n",
        "prediction = model.predict([bedrooms])\n",
        "cost = prediction[0][0] * 100000\n",
        "\n",
        "print (\"The cost of {0} bedrooms house in Timbuktu is {1:.2f} dollars\".format(bedrooms, cost) )"
      ],
      "execution_count": null,
      "outputs": []
    },
    {
      "cell_type": "markdown",
      "metadata": {
        "id": "5ZAiQy_EM5WE",
        "colab_type": "text"
      },
      "source": [
        "How about a 9 bedroom house?"
      ]
    },
    {
      "cell_type": "code",
      "metadata": {
        "id": "ESUr4cJbM8L2",
        "colab_type": "code",
        "colab": {}
      },
      "source": [
        "bedrooms = 9\n",
        "prediction = model.predict([bedrooms])\n",
        "cost = prediction[0][0] * 100000\n",
        "print (\"The cost of {0} bedrooms house in Timbuktu is {1:.2f} dollars\".format(bedrooms, cost) )"
      ],
      "execution_count": null,
      "outputs": []
    },
    {
      "cell_type": "markdown",
      "metadata": {
        "id": "6fzktVdUcxF5",
        "colab_type": "text"
      },
      "source": [
        "Let us print the cost from 1-10 bedrooms"
      ]
    },
    {
      "cell_type": "code",
      "metadata": {
        "id": "5T-v-LdVb9Pz",
        "colab_type": "code",
        "colab": {}
      },
      "source": [
        "for i in range(0,10):\n",
        "  prediction = model.predict([i])\n",
        "  cost = prediction[0][0] * 100000\n",
        "  print (\"The cost of {0} bedrooms house in Timbuktu is {1:.2f} dollars\".format(i, cost) )"
      ],
      "execution_count": null,
      "outputs": []
    },
    {
      "cell_type": "markdown",
      "metadata": {
        "id": "7FBhcaAmc3p7",
        "colab_type": "text"
      },
      "source": [
        "What does adding more hidden layers do?"
      ]
    },
    {
      "cell_type": "code",
      "metadata": {
        "id": "ovu_9CymPfqF",
        "colab_type": "code",
        "colab": {}
      },
      "source": [
        "model = tf.keras.Sequential([\n",
        "                              keras.layers.Dense(units=5, input_shape=[1]),\n",
        "                              keras.layers.Dense(units=10),\n",
        "                              keras.layers.Dense(units=1)\n",
        "                              ])\n",
        "model.compile(optimizer='sgd', loss='mean_squared_error')\n",
        "model.fit(xs, ys, epochs=500)"
      ],
      "execution_count": null,
      "outputs": []
    },
    {
      "cell_type": "code",
      "metadata": {
        "id": "xRrtBmzfPwrJ",
        "colab_type": "code",
        "colab": {}
      },
      "source": [
        "for i in range(0,10):\n",
        "  prediction = model.predict([i])\n",
        "  cost = prediction[0][0] * 100000\n",
        "  print (\"The cost of {0} bedrooms house in Timbuktu is {1:.2f} dollars\".format(i, cost) )"
      ],
      "execution_count": null,
      "outputs": []
    },
    {
      "cell_type": "markdown",
      "metadata": {
        "id": "n56_fTNGc909",
        "colab_type": "text"
      },
      "source": [
        "Has it increased the precision of prediction?"
      ]
    }
  ]
}